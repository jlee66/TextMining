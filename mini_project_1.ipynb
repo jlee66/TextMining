{
 "cells": [
  {
   "cell_type": "code",
   "execution_count": 3,
   "metadata": {
    "collapsed": false,
    "scrolled": false
   },
   "outputs": [
    {
     "name": "stdout",
     "output_type": "stream",
     "text": [
      "Los fans del United se preguntan que cuándo demostrará Pogba. Sencillo, hasta que no juega en su puesto y es probable que no lo haga=fiasco\n",
      "\n",
      "RT @FootballFunnys: VIDEO: Pogba takes down Joe Allen with a UFC style challenge. He should be banned! \n",
      "https://t.co/IJcCHPRKiZ https://t.c…\n",
      "\n",
      "RT @TrollFootball: VIDEO: Paul Pogba could get a 3 match ban for doing this to Joe Allen! [HD]\n",
      "\n",
      "MUST WATCH: https://t.co/7kaQ3CfNCo\n",
      "\n",
      "RT @Tucu_Eze20: Pogba es Bolso\n",
      "Jajajaja vamos por el socio 330.000\n",
      "Jajajaj\n",
      "Buenas noches\n",
      "Que Paco y Goñi os Protejan\n",
      "\n",
      "RT @FootyHumour: Goals this season: \n",
      "\n",
      "Paul Pogba - 1\n",
      "Joe Allen - 2 https://t.co/Wc5kqs7Qjm\n",
      "\n",
      "RT @sergerocks: Dormir tôt, se réveiller dans la nuit, ne plus dormir c'est mauvais délire\n",
      "\n",
      "Paul Pogba chats with former Manchester United goalkeeper Raimond van der Gouw\n",
      "\n",
      "RT @VintageJurgen: What is this? REF is right there and not even a yellow. The bias towards United/Pogba is unreal\n",
      "\n",
      " https://t.co/kIJQmHT9c7\n",
      "\n",
      "RT @Turner_LFC: One is worth £89m. The other is Paul Pogba https://t.co/OeoH3KN1P9\n",
      "\n",
      "RT @8Fact_Footballl: Golden Boys Last 10 years\n",
      "\n",
      "'06 Fàbregas\n",
      "'07 Agüero\n",
      "'08 Anderson\n",
      "'09 Pato\n",
      "'10 Balotelli\n",
      "'11 Götze\n",
      "'12 Isco\n",
      "'13 Pogba\n",
      "'1…\n",
      "\n",
      "RT @FootballFunnys: VIDEO: Pogba takes down Joe Allen with a UFC style challenge. He should be banned! \n",
      "https://t.co/IJcCHPRKiZ https://t.c…\n",
      "\n",
      "RT @FootballFunnys: VIDEO: Pogba takes down Joe Allen with a UFC style challenge. He should be banned! \n",
      "https://t.co/IJcCHPRKiZ https://t.c…\n",
      "\n",
      "VIDEO: Pogba takes down Joe Allen with a UFC style challenge. He should be banned! \n",
      "https://t.co/IJcCHPRKiZ https://t.co/OLr5k6v9mg\n",
      "\n",
      "WOW! #BET JUST £10 AND GET £30 #FREE FROM MR VICTOR!! #EFL #POGBA #Footy - https://t.co/ljXiobwXCZ https://t.co/MKEnJgigID\n",
      "\n",
      "Paul Pogba chats with former Manchester United goalkeeper Raimond van der Gouw https://t.co/suF75DlJZE\n",
      "\n",
      "RT @SportsJOE_UK: Milner: 4 goals, 1 assist - Free\n",
      "Pogba: 1 goal, 0 assists - £89m\n",
      "https://t.co/kpIwjzEZJE\n",
      "\n",
      "Get Your £50 #Free #Bet From #Netbet #Today #EFL #POGBA #Footy - https://t.co/21pG6EZIvf https://t.co/BPTmHK7MPS\n",
      "\n",
      "Pogba es Bolso\n",
      "Jajajaja vamos por el socio 330.000\n",
      "Jajajaj\n",
      "Buenas noches\n",
      "Que Paco y Goñi os Protejan\n",
      "\n",
      "RT @FriskyFirmino: The moment when Joe Allen told Pogba, James Milner has more goals than him this season.. https://t.co/DnT7Rt04aQ\n",
      "\n",
      "Complaints Made at Manchester Hotel Over £89m-Man Paul Pogba's Late Night Partying &gt;&gt; https://t.co/jUvHCxSPiP https://t.co/sjtSpjsVkF\n",
      "\n",
      "RT @ChuyGallaRdz232: Pogba con el United:\n",
      "\n",
      "-360 minutos jugados\n",
      "-0 Goles\n",
      "-0 Asistencias\n",
      "-0 Disparos al Arco\n",
      "-4 Cambios de Look\n",
      "\n",
      "120 MD€. ht…\n",
      "\n",
      "RT @FriskyFirmino: The moment when Joe Allen told Pogba, James Milner has more goals than him this season.. https://t.co/DnT7Rt04aQ\n",
      "\n",
      "RT @PogbaHighlights: OMG WHAT A TACKLE PAUL LABILE POGBA https://t.co/V9ipbu85FF\n",
      "\n",
      "RT @VintageJurgen: What is this? REF is right there and not even a yellow. The bias towards United/Pogba is unreal\n",
      "\n",
      " https://t.co/kIJQmHT9c7\n",
      "\n",
      "Complaints Made at Manchester Hotel Over £89m-Man Paul Pogba's Late Night Partying &gt;&gt; https://t.co/3xSx8kvYV5 https://t.co/W1rEOY0X4J\n",
      "\n",
      "RT @FootyHumour: Goals this season: \n",
      "\n",
      "Paul Pogba - 1\n",
      "Joe Allen - 2 https://t.co/Wc5kqs7Qjm\n",
      "\n",
      "RT @BBCSporf: QUALITY: @daRealAkinfenwa's version of the Pogba x Lingard dab celebration.\n",
      " https://t.co/OyMO9444Cz\n",
      "\n",
      "RT @manindetribune: Paul Pogba vs Joe Allen #MUNSTK https://t.co/EniGKsorXx\n",
      "\n",
      "RT @Bolanalytics: Better midfielder semalam?\n",
      "RT allen Fav Pogba https://t.co/Jx038mgl32\n",
      "\n",
      "RT @VintageJurgen: What is this? REF is right there and not even a yellow. The bias towards United/Pogba is unreal\n",
      "\n",
      " https://t.co/kIJQmHT9c7\n",
      "\n"
     ]
    }
   ],
   "source": [
    "from pattern.web import Twitter\n",
    "\n",
    "t = Twitter()\n",
    "i = None\n",
    "for tweet in t.search('Pogba', start=i, count=30):\n",
    "    print tweet.text\n",
    "    print\n",
    "    i = tweet.id\n",
    "\n",
    "allTweets=[]\n",
    "for tweet in t.search('Pogba', start=i, count=30):\n",
    "    allTweets.append(tweet.text)\n",
    "\n",
    "    \n",
    "import pickle\n",
    "f=open('pogba_texts.pickle','w')\n",
    "pickle.dump(allTweets,f)\n",
    "f.close()\n",
    "\n",
    "input_file=open('pogba_texts.pickle','r')\n",
    "reloaded_copy_of_texts=pickle.load(input_file)"
   ]
  },
  {
   "cell_type": "code",
   "execution_count": 4,
   "metadata": {
    "collapsed": false,
    "scrolled": true
   },
   "outputs": [
    {
     "name": "stdout",
     "output_type": "stream",
     "text": [
      "(0.14285714285714285, 0.26785714285714285)\n",
      "(0.0, 0.0)\n",
      "(0.039999999999999994, 0.49000000000000005)\n",
      "(0.4, 0.8)\n",
      "(0.16666666666666666, 0.25)\n",
      "(0.4, 0.8)\n",
      "(0.23472222222222222, 0.3944444444444445)\n",
      "(0.0, 0.0)\n",
      "(0.0, 0.0)\n",
      "(0.0, 0.0)\n",
      "(0.48409090909090907, 0.36363636363636365)\n",
      "(0.2, 0.2)\n",
      "(0.0, 0.0)\n",
      "(-0.16666666666666666, 0.16666666666666666)\n",
      "(0.0, 0.0)\n",
      "(0.0875, 0.2375)\n",
      "(0.14285714285714285, 0.26785714285714285)\n",
      "(0.0, 0.0)\n",
      "(0.0, 0.0)\n",
      "(0.0875, 0.2375)\n",
      "(0.0, 0.0)\n",
      "(0.0875, 0.2375)\n",
      "(0.14285714285714285, 0.26785714285714285)\n",
      "(0.0, 0.0)\n",
      "(0.0, 0.0)\n",
      "(0.0, 0.0)\n",
      "(0.0, 0.0)\n",
      "(0.0, 0.0)\n",
      "(0.14285714285714285, 0.26785714285714285)\n",
      "(0.0, 0.0)\n",
      "(0.2, 0.4)\n"
     ]
    }
   ],
   "source": [
    "from pattern.en import *\n",
    "print sentiment ('What is this? REF is right there and not even a yellow. The bias towards United/Pogba is unreal')\n",
    "for tweet in t.search('Pogba', start=i, count=30):\n",
    "    print sentiment(tweet.text)\n",
    "sentimentList=[]\n",
    "for tweet in t.search('Pogba', start=i, count=30):\n",
    "    sentimentList.append(sentiment(tweet.text))"
   ]
  },
  {
   "cell_type": "code",
   "execution_count": 99,
   "metadata": {
    "collapsed": false
   },
   "outputs": [
    {
     "name": "stdout",
     "output_type": "stream",
     "text": [
      "0.121785714286\n"
     ]
    }
   ],
   "source": [
    "sumPolarity=0\n",
    "for s in sentimentList:\n",
    "    polarity=s[0]\n",
    "    sumPolarity=sumPolarity+polarity\n",
    "sumPolarity/len(sentimentList)\n",
    "Average=sumPolarity/len(sentimentList)\n",
    "\n",
    "print Average"
   ]
  },
  {
   "cell_type": "code",
   "execution_count": null,
   "metadata": {
    "collapsed": false
   },
   "outputs": [],
   "source": []
  },
  {
   "cell_type": "code",
   "execution_count": null,
   "metadata": {
    "collapsed": true
   },
   "outputs": [],
   "source": []
  },
  {
   "cell_type": "code",
   "execution_count": null,
   "metadata": {
    "collapsed": true
   },
   "outputs": [],
   "source": []
  },
  {
   "cell_type": "code",
   "execution_count": null,
   "metadata": {
    "collapsed": true
   },
   "outputs": [],
   "source": []
  },
  {
   "cell_type": "code",
   "execution_count": null,
   "metadata": {
    "collapsed": true
   },
   "outputs": [],
   "source": []
  }
 ],
 "metadata": {
  "kernelspec": {
   "display_name": "Python 2",
   "language": "python",
   "name": "python2"
  },
  "language_info": {
   "codemirror_mode": {
    "name": "ipython",
    "version": 2
   },
   "file_extension": ".py",
   "mimetype": "text/x-python",
   "name": "python",
   "nbconvert_exporter": "python",
   "pygments_lexer": "ipython2",
   "version": "2.7.6"
  }
 },
 "nbformat": 4,
 "nbformat_minor": 1
}
