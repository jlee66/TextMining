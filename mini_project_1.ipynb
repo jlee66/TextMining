{
 "cells": [
  {
   "cell_type": "code",
   "execution_count": 1,
   "metadata": {
    "collapsed": false,
    "scrolled": false
   },
   "outputs": [
    {
     "name": "stdout",
     "output_type": "stream",
     "text": [
      "But de Paul Pogba ! https://t.co/45icAL0WJ7 by #lequipe via @c0nvey\n",
      "\n",
      "KUALIFIKASI PIALA DUNIA 2018 : Pogba Jadi Sasaran Kritik Media https://t.co/BjXw1OnJM7\n",
      "\n",
      "RT @TheUtdReview: \"Pogba cost United £90 million, he should be scoring 4 goals a game\" https://t.co/RXB4uL2NDz\n",
      "\n",
      "RT @macromill_kun: 滋賀県 けんかで死亡者が出る事件が発生 https://t.co/iMkkEjGLYz…\n",
      "10/11朝のトレンド\n",
      "#杉田智和生誕祭2016 \n",
      "めざましアクア\n",
      "経営破綻\n",
      "はやドキ\n",
      "差別の意図\n",
      "恐怖の荒行\n",
      "風雲絵巻\n",
      "Superman\n",
      "Pogba…\n",
      "\n",
      "RT @MUFCAddiction: Paul Pogba's strike ensures a 1-0 victory for France over the Netherlands! #MUFC 🔴 https://t.co/EWEgrs3PKc\n",
      "\n",
      "RT @Corentinvey8: Pogba il fait 1 bon match par mois et il continu à faire le fou quand il marque 😩\n",
      "\n",
      "RT @WinamaxSport: Quand t'avais prévu de critiquer Pogba en après-match. #PBSFRA https://t.co/uMS2Bj9uCG\n",
      "\n",
      "Comment ça Paul Pogba fait polémique ? Il a même pas célébré ! Il célèbre: vous faîtes chier. Il le fait pas: vous faîtes chier ! #PBSFRA\n",
      "\n",
      "RT @ManUtdReport_: Paul Pogba's goal against the Netherlands. #MUFC\n",
      "\n",
      " https://t.co/rVz5EXeezO\n",
      "\n",
      "RT @MufcDevilUpdate: Pogba's winning goal tonight. #MUFC https://t.co/RlQVPUVgVn\n",
      "\n",
      "RT @Scipionista: Le journaliste de l'équipe qui pensait mettre un 4 à Pogba avant son but. https://t.co/KKspmVyz87\n",
      "\n",
      "RT @Re_tweet_master: 滋賀県 けんかで死亡者が出る事件が発生 https://t.co/TX4Odsk1e7…\n",
      "10/11朝のトレンド\n",
      "#杉田智和生誕祭2016 \n",
      "めざましアクア\n",
      "経営破綻\n",
      "はやドキ\n",
      "差別の意図\n",
      "恐怖の荒行\n",
      "風雲絵巻\n",
      "Superman\n",
      "Pog…\n",
      "\n",
      "RT @tododeportes_pl: #Mundial2018 | Francia gana a Holanda con gol de Pogba y logra el liderato del grupo A: https://t.co/y4QiAMXV9h 😱 👏 ht…\n",
      "\n",
      "boleh boljug gol ny pogba semalem. xhaka-esque, hahaha\n",
      "\n",
      "thanks, prancis jadi menang tipis :)\n",
      "\n",
      "RT @Somany_thingx: Pogba il célèbre même pas pour eviter la polémique. Comme Aurier 😐😐 #PBSFRA https://t.co/XKodTMfajv\n",
      "\n",
      "RT @Bolanet: #LiveBolanet FT: Belanda 0-1 Prancis (30' Pogba) | Poss: 50%-50% | Shots: 9-14 | Total operan: 433-450 https://t.co/FgnoqfscPt\n",
      "\n",
      "RT @MUFCAddiction: Paul Pogba's strike ensures a 1-0 victory for France over the Netherlands! #MUFC 🔴 https://t.co/EWEgrs3PKc\n",
      "\n",
      "#Newsindravanthoni Malouda Angggap Kritik Terhadap Pogba Keterlaluan https://t.co/w42NVdNfHN by @indravanthoni_\n",
      "\n",
      "Malouda Angggap Kritik Terhadap Pogba Keterlaluan https://t.co/YZ71UG4HdS\n",
      "\n",
      "RT @WinamaxSport: Quand t'avais prévu de critiquer Pogba en après-match. #PBSFRA https://t.co/uMS2Bj9uCG\n",
      "\n",
      "RT @AnguiMiignon225: LA célébration de Pogba elle est nrv il l'aurai fini avec un DAB à la fin il aurai tous BZ !!\n",
      "\n",
      "RT @Liga_Inggris_PL: WCQ2018 FT: \n",
      "Netherlands 0-1 France.\n",
      "Sweden 3-0 Bulgaria. \n",
      "Faroe 0-6 Portugal.\n",
      "Gibraltar 0-6 Belgium. #Pogba Belanda 0…\n",
      "\n",
      "#Newsindravanthoni Malouda Angggap Kritik Terhadap Pogba Keterlaluan https://t.co/rQlvjAcAgP by @indravanthoni_\n",
      "\n",
      "Mercato - ASSE : Florentin Pogba confirme ses deux rêves...: Dans un entretien accordé à Surface Magazine, Fl... https://t.co/n4yhsA9Kqx\n",
      "\n",
      "Mercato - ASSE : Florentin Pogba confirme ses deux rêves...: Dans un entretien accordé à Surface Magazine, Fl... https://t.co/gYQIAXprtu\n",
      "\n",
      "RT @MufcDevilUpdate: Pogba's winning goal tonight. #MUFC https://t.co/RlQVPUVgVn\n",
      "\n",
      "RT @TheUtdReview: \"Pogba cost United £90 million, he should be scoring 4 goals a game\" https://t.co/RXB4uL2NDz\n",
      "\n",
      "Malouda Angggap Kritik Terhadap Pogba Keterlaluan https://t.co/UxqHJcDy6I\n",
      "\n",
      "ASSE : Florentin Pogba confirme ses deux rêves... https://t.co/zX0tu9eJpa https://t.co/luUtd4rpf0\n",
      "\n",
      "RT @TheUtdReview: \"Pogba cost United £90 million, he should be scoring 4 goals a game\" https://t.co/RXB4uL2NDz\n",
      "\n",
      "Mercato - ASSE : Florentin Pogba confirme ses deux rêves... https://t.co/GeCviOiFcU https://t.co/FHj5zKJ5Lb\n",
      "\n",
      "| BMU - Antarabangsa |\n",
      "\n",
      "Paul Pogba mencetak gol kemenangan untuk Perancis pada separuh masa pertama dalam... https://t.co/JSuu3su2uL\n",
      "\n",
      "If Pogba is the man to beat then most players in Europe. https://t.co/ooD7WnuKdn\n",
      "\n",
      "⚽ Pogba da victoria a Francia de vista en Holanda ⚽\n",
      "https://t.co/UCMIv2RhX0 https://t.co/FNZX1Ryu6Q\n",
      "\n",
      "Malouda Angggap Kritik Terhadap Pogba Keterlaluan https://t.co/GFIOsDkOOM\n",
      "\n",
      "RT @Ultimo_Diez: Pogba... Sissoko... Un milieux de dealers... salafistes... https://t.co/q34YRX6Mn8\n",
      "\n",
      "Can't wait until zlatan and pogba go beast mode and memphis get back him confidence and Rojo get deport ye man a it\n",
      "\n",
      "Malouda Angggap Kritik Terhadap Pogba Keterlaluan https://t.co/OtPqa4rjo2 buy lucas moura @LFC\n",
      "\n",
      "Pogba et ses potes en transe sur le parking https://t.co/fcyb6rwOwY #Pogba #football #soccer\n",
      "\n",
      "Malouda Angggap Kritik Terhadap Pogba Keterlaluan https://t.co/IMBlLNkJUT\n",
      "\n",
      "Malouda Angggap Kritik Terhadap Pogba Keterlaluan https://t.co/PsPU1LSZok\n",
      "\n",
      "RT @JulienChoquet: La célébration de Pogba c'est du petit lait. Ça va faire 3 jours de polémique sans parler de son match, mais on sent qu'…\n",
      "\n",
      "#Deschamps sur\n",
      "#Pogba : \"Je n'ai jamais douté qu'il pouvait le faire. Il ne faut pas oublier que #Paul est jeune\". https://t.co/f6CjgMmOM1\n",
      "\n",
      "Pogba is the best CDM/CM in the premier league no doubt about it,give him time and he will show you\n",
      "\n",
      "Pogba remaining focused despite criticism: France midfielder Paul Pogba understands the criticism of his perf... https://t.co/D0GmCTvMmF\n",
      "\n",
      "Pogba joga muito, joga praticamente sozinho no meio de campo, craque!\n",
      "\n",
      "RT @Unitedesque: Pogba's goal for France. https://t.co/QhZiraQSxu\n",
      "\n",
      "RT @UtdHQ: Pogba goal #mufc https://t.co/yXr1I9u5MZ\n",
      "\n",
      "Pogba da triunfo a Francia y le da liderato del Grupo A – Visual Sports https://t.co/15UTpD3RLF https://t.co/9gUsaDyrXM\n",
      "\n",
      "RT @TheManUtdWay: Paul Pogba telling Kevin Strootman to 'shut the f*ck up' tonight. Love it. https://t.co/rOKjzJ3Uta\n",
      "\n"
     ]
    }
   ],
   "source": [
    "from pattern.web import Twitter\n",
    "\n",
    "t = Twitter()\n",
    "i = None\n",
    "for tweet in t.search('Pogba', start=i, count=50):\n",
    "    print tweet.text\n",
    "    print\n",
    "    i = tweet.id\n",
    "\n",
    "allTweets=[]\n",
    "for tweet in t.search('Pogba', start=i, count=50):\n",
    "    allTweets.append(tweet.text)\n",
    "\n",
    "    \n",
    "import pickle\n",
    "f=open('pogba_texts.pickle','w')\n",
    "pickle.dump(allTweets,f)\n",
    "f.close()"
   ]
  },
  {
   "cell_type": "code",
   "execution_count": 2,
   "metadata": {
    "collapsed": false
   },
   "outputs": [],
   "source": [
    "import pickle\n",
    "input_file=open('pogba_texts.pickle','r')\n",
    "reloaded_copy_of_texts=pickle.load(input_file)"
   ]
  },
  {
   "cell_type": "code",
   "execution_count": 3,
   "metadata": {
    "collapsed": false,
    "scrolled": true
   },
   "outputs": [
    {
     "name": "stdout",
     "output_type": "stream",
     "text": [
      "(0.14285714285714285, 0.26785714285714285)\n",
      "(0.0, 0.0)\n",
      "(0.0, 0.0)\n",
      "(0.0, 0.0)\n",
      "(0.0, 0.0)\n",
      "(0.0, 0.0)\n",
      "(0.0, 0.0)\n",
      "(0.0, 0.0)\n",
      "(-0.4, 0.4)\n",
      "(0.0, 0.0)\n",
      "(0.0, 0.0)\n",
      "(0.0, 0.0)\n",
      "(0.0, 0.0)\n",
      "(0.0, 0.0)\n",
      "(0.0, 0.0)\n",
      "(0.0, 0.0)\n",
      "(0.25, 0.25)\n",
      "(0.0, 0.0)\n",
      "(0.0, 0.0)\n",
      "(0.0, 0.0)\n",
      "(0.0, 0.0)\n",
      "(0.0, 0.0)\n",
      "(0.0, 0.0)\n",
      "(0.0, 0.0)\n",
      "(0.0, 0.0)\n",
      "(0.0, 0.0)\n",
      "(0.0, 0.0)\n",
      "(0.0, 0.0)\n",
      "(0.0, 0.0)\n",
      "(0.0, 0.0)\n",
      "(0.0, 0.0)\n",
      "(0.0, 0.0)\n",
      "(0.0, 0.0)\n",
      "(0.0, 0.0)\n",
      "(0.0, 0.0)\n",
      "(0.0, 0.0)\n",
      "(0.0, 0.0)\n",
      "(0.0, 0.0)\n",
      "(0.0, 0.0)\n",
      "(0.0, 0.0)\n",
      "(-0.4, 0.4)\n",
      "(0.0, 0.0)\n",
      "(0.0, 0.0)\n",
      "(0.0, 0.0)\n",
      "(0.0, 0.0)\n",
      "(0.0, 0.0)\n",
      "(0.5, 0.75)\n",
      "(0.0, 0.0)\n",
      "(0.0, 0.0)\n",
      "(0.0, 0.0)\n",
      "(0.0, 0.0)\n"
     ]
    }
   ],
   "source": [
    "from pattern.en import *\n",
    "print sentiment ('What is this? REF is right there and not even a yellow. The bias towards United/Pogba is unreal')\n",
    "for tweet in reloaded_copy_of_texts:\n",
    "    print sentiment(tweet)\n",
    "sentimentList=[]\n",
    "for tweet in reloaded_copy_of_texts:\n",
    "    sentimentList.append(sentiment(tweet))"
   ]
  },
  {
   "cell_type": "code",
   "execution_count": 4,
   "metadata": {
    "collapsed": false
   },
   "outputs": [
    {
     "name": "stdout",
     "output_type": "stream",
     "text": [
      "-0.001\n"
     ]
    }
   ],
   "source": [
    "sumPolarity=0\n",
    "for s in sentimentList:\n",
    "    polarity=s[0]\n",
    "    sumPolarity=sumPolarity+polarity\n",
    "sumPolarity/len(sentimentList)\n",
    "Average=sumPolarity/len(sentimentList)\n",
    "\n",
    "print Average"
   ]
  },
  {
   "cell_type": "code",
   "execution_count": null,
   "metadata": {
    "collapsed": false
   },
   "outputs": [],
   "source": []
  },
  {
   "cell_type": "code",
   "execution_count": null,
   "metadata": {
    "collapsed": true
   },
   "outputs": [],
   "source": []
  },
  {
   "cell_type": "code",
   "execution_count": null,
   "metadata": {
    "collapsed": true
   },
   "outputs": [],
   "source": []
  },
  {
   "cell_type": "code",
   "execution_count": null,
   "metadata": {
    "collapsed": true
   },
   "outputs": [],
   "source": []
  },
  {
   "cell_type": "code",
   "execution_count": null,
   "metadata": {
    "collapsed": true
   },
   "outputs": [],
   "source": []
  }
 ],
 "metadata": {
  "kernelspec": {
   "display_name": "Python 2",
   "language": "python",
   "name": "python2"
  },
  "language_info": {
   "codemirror_mode": {
    "name": "ipython",
    "version": 2
   },
   "file_extension": ".py",
   "mimetype": "text/x-python",
   "name": "python",
   "nbconvert_exporter": "python",
   "pygments_lexer": "ipython2",
   "version": "2.7.6"
  }
 },
 "nbformat": 4,
 "nbformat_minor": 1
}
